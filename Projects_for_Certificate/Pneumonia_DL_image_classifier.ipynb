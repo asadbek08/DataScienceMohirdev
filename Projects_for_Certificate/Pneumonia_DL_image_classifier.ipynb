{
  "metadata": {
    "kernelspec": {
      "language": "python",
      "display_name": "Python 3",
      "name": "python3"
    },
    "language_info": {
      "name": "python",
      "version": "3.10.13",
      "mimetype": "text/x-python",
      "codemirror_mode": {
        "name": "ipython",
        "version": 3
      },
      "pygments_lexer": "ipython3",
      "nbconvert_exporter": "python",
      "file_extension": ".py"
    },
    "kaggle": {
      "accelerator": "nvidiaTeslaT4",
      "dataSources": [
        {
          "sourceId": 36499,
          "databundleVersionId": 3618301,
          "sourceType": "competition"
        }
      ],
      "dockerImageVersionId": 30733,
      "isInternetEnabled": true,
      "language": "python",
      "sourceType": "notebook",
      "isGpuEnabled": true
    },
    "colab": {
      "provenance": [],
      "include_colab_link": true
    }
  },
  "nbformat_minor": 0,
  "nbformat": 4,
  "cells": [
    {
      "cell_type": "markdown",
      "metadata": {
        "id": "view-in-github",
        "colab_type": "text"
      },
      "source": [
        "<a href=\"https://colab.research.google.com/github/asadbek08/DataScienceMohirdev/blob/main/Pneumonia_DL_image_classifier.ipynb\" target=\"_parent\"><img src=\"https://colab.research.google.com/assets/colab-badge.svg\" alt=\"Open In Colab\"/></a>"
      ]
    },
    {
      "source": [
        "\n",
        "# IMPORTANT: RUN THIS CELL IN ORDER TO IMPORT YOUR KAGGLE DATA SOURCES\n",
        "# TO THE CORRECT LOCATION (/kaggle/input) IN YOUR NOTEBOOK,\n",
        "# THEN FEEL FREE TO DELETE THIS CELL.\n",
        "# NOTE: THIS NOTEBOOK ENVIRONMENT DIFFERS FROM KAGGLE'S PYTHON\n",
        "# ENVIRONMENT SO THERE MAY BE MISSING LIBRARIES USED BY YOUR\n",
        "# NOTEBOOK.\n",
        "\n",
        "import os\n",
        "import sys\n",
        "from tempfile import NamedTemporaryFile\n",
        "from urllib.request import urlopen\n",
        "from urllib.parse import unquote, urlparse\n",
        "from urllib.error import HTTPError\n",
        "from zipfile import ZipFile\n",
        "import tarfile\n",
        "import shutil\n",
        "\n",
        "CHUNK_SIZE = 40960\n",
        "DATA_SOURCE_MAPPING = 'pnevmoniya:https%3A%2F%2Fstorage.googleapis.com%2Fkaggle-competitions-data%2Fkaggle-v2%2F36499%2F3618301%2Fbundle%2Farchive.zip%3FX-Goog-Algorithm%3DGOOG4-RSA-SHA256%26X-Goog-Credential%3Dgcp-kaggle-com%2540kaggle-161607.iam.gserviceaccount.com%252F20240704%252Fauto%252Fstorage%252Fgoog4_request%26X-Goog-Date%3D20240704T140748Z%26X-Goog-Expires%3D259200%26X-Goog-SignedHeaders%3Dhost%26X-Goog-Signature%3D804ea970693289e2d242f1ad0a9070b5112c09df9043245c2b7c18f659696a74f121fa00535056079d615bc29364301786080982391ffa38e1b68381e34698ac1a3e4498593e6b9a4a2cf74157b4efadccf8ea6c3241a6375f3f5710e26e432680514267d80e0e97355cbc75c3b03277146bc96cbe10a0e366f189a0fe27851e3a6505463fe245f755f4bb6d764228b5eb0d133dca70b945093133ccaa597e457445697532ebaf8928af025cb99080e2e19a0ce9306eeecbc4fd26468c2988fb23beb13cb0ffeb727457f916a41330c5a1c51197d0bed03891c19c7651ed0f3fdc78071a44d0f4eb9d454c028f7b03d118067b3a3d768bd24f1db5d825334025'\n",
        "\n",
        "KAGGLE_INPUT_PATH='/kaggle/input'\n",
        "KAGGLE_WORKING_PATH='/kaggle/working'\n",
        "KAGGLE_SYMLINK='kaggle'\n",
        "\n",
        "!umount /kaggle/input/ 2> /dev/null\n",
        "shutil.rmtree('/kaggle/input', ignore_errors=True)\n",
        "os.makedirs(KAGGLE_INPUT_PATH, 0o777, exist_ok=True)\n",
        "os.makedirs(KAGGLE_WORKING_PATH, 0o777, exist_ok=True)\n",
        "\n",
        "try:\n",
        "  os.symlink(KAGGLE_INPUT_PATH, os.path.join(\"..\", 'input'), target_is_directory=True)\n",
        "except FileExistsError:\n",
        "  pass\n",
        "try:\n",
        "  os.symlink(KAGGLE_WORKING_PATH, os.path.join(\"..\", 'working'), target_is_directory=True)\n",
        "except FileExistsError:\n",
        "  pass\n",
        "\n",
        "for data_source_mapping in DATA_SOURCE_MAPPING.split(','):\n",
        "    directory, download_url_encoded = data_source_mapping.split(':')\n",
        "    download_url = unquote(download_url_encoded)\n",
        "    filename = urlparse(download_url).path\n",
        "    destination_path = os.path.join(KAGGLE_INPUT_PATH, directory)\n",
        "    try:\n",
        "        with urlopen(download_url) as fileres, NamedTemporaryFile() as tfile:\n",
        "            total_length = fileres.headers['content-length']\n",
        "            print(f'Downloading {directory}, {total_length} bytes compressed')\n",
        "            dl = 0\n",
        "            data = fileres.read(CHUNK_SIZE)\n",
        "            while len(data) > 0:\n",
        "                dl += len(data)\n",
        "                tfile.write(data)\n",
        "                done = int(50 * dl / int(total_length))\n",
        "                sys.stdout.write(f\"\\r[{'=' * done}{' ' * (50-done)}] {dl} bytes downloaded\")\n",
        "                sys.stdout.flush()\n",
        "                data = fileres.read(CHUNK_SIZE)\n",
        "            if filename.endswith('.zip'):\n",
        "              with ZipFile(tfile) as zfile:\n",
        "                zfile.extractall(destination_path)\n",
        "            else:\n",
        "              with tarfile.open(tfile.name) as tarfile:\n",
        "                tarfile.extractall(destination_path)\n",
        "            print(f'\\nDownloaded and uncompressed: {directory}')\n",
        "    except HTTPError as e:\n",
        "        print(f'Failed to load (likely expired) {download_url} to path {destination_path}')\n",
        "        continue\n",
        "    except OSError as e:\n",
        "        print(f'Failed to load {download_url} to path {destination_path}')\n",
        "        continue\n",
        "\n",
        "print('Data source import complete.')\n"
      ],
      "metadata": {
        "id": "SUepUVuDEyXC"
      },
      "cell_type": "code",
      "outputs": [],
      "execution_count": null
    },
    {
      "cell_type": "code",
      "source": [
        "# This Python 3 environment comes with many helpful analytics libraries installed\n",
        "# It is defined by the kaggle/python Docker image: https://github.com/kaggle/docker-python\n",
        "# For example, here's several helpful packages to load\n",
        "\n",
        "import numpy as np # linear algebra\n",
        "import pandas as pd # data processing, CSV file I/O (e.g. pd.read_csv)\n",
        "\n",
        "# Input data files are available in the read-only \"../input/\" directory\n",
        "# For example, running this (by clicking run or pressing Shift+Enter) will list all files under the input directory\n",
        "\n",
        "import os\n",
        "for dirname, _, filenames in os.walk('/kaggle/input'):\n",
        "    for filename in filenames:\n",
        "        print(os.path.join(dirname, filename))\n",
        "\n",
        "# You can write up to 20GB to the current directory (/kaggle/working/) that gets preserved as output when you create a version using \"Save & Run All\"\n",
        "# You can also write temporary files to /kaggle/temp/, but they won't be saved outside of the current session"
      ],
      "metadata": {
        "_uuid": "8f2839f25d086af736a60e9eeb907d3b93b6e0e5",
        "_cell_guid": "b1076dfc-b9ad-4769-8c92-a6c4dae69d19",
        "_kg_hide-output": true,
        "execution": {
          "iopub.status.busy": "2024-07-04T13:28:41.024235Z",
          "iopub.execute_input": "2024-07-04T13:28:41.024554Z",
          "iopub.status.idle": "2024-07-04T13:28:44.441671Z",
          "shell.execute_reply.started": "2024-07-04T13:28:41.024526Z",
          "shell.execute_reply": "2024-07-04T13:28:44.440282Z"
        },
        "trusted": true,
        "id": "SruHjV_WEyXK"
      },
      "execution_count": null,
      "outputs": []
    },
    {
      "cell_type": "code",
      "source": [
        "from fastai.vision.all import *\n",
        "from ipywidgets import widgets"
      ],
      "metadata": {
        "execution": {
          "iopub.status.busy": "2024-07-04T13:29:05.17869Z",
          "iopub.execute_input": "2024-07-04T13:29:05.179156Z",
          "iopub.status.idle": "2024-07-04T13:29:13.332731Z",
          "shell.execute_reply.started": "2024-07-04T13:29:05.179125Z",
          "shell.execute_reply": "2024-07-04T13:29:13.331898Z"
        },
        "trusted": true,
        "id": "IZhxNBYTEyXL"
      },
      "execution_count": null,
      "outputs": []
    },
    {
      "cell_type": "code",
      "source": [
        "path = Path('/kaggle/input/pnevmoniya/train')\n",
        "fls = get_image_files(path)\n",
        "failed = verify_images(path)\n",
        "failed"
      ],
      "metadata": {
        "execution": {
          "iopub.status.busy": "2024-07-04T13:31:00.992346Z",
          "iopub.execute_input": "2024-07-04T13:31:00.993243Z",
          "iopub.status.idle": "2024-07-04T13:31:02.187051Z",
          "shell.execute_reply.started": "2024-07-04T13:31:00.99321Z",
          "shell.execute_reply": "2024-07-04T13:31:02.185986Z"
        },
        "trusted": true,
        "id": "V_BHuPAGEyXM"
      },
      "execution_count": null,
      "outputs": []
    },
    {
      "cell_type": "code",
      "source": [
        "xrays = DataBlock(\n",
        "    blocks=(ImageBlock, CategoryBlock),\n",
        "    get_items = get_image_files,\n",
        "    splitter = RandomSplitter(valid_pct=0.2, seed=42),\n",
        "    get_y = parent_label,\n",
        "    item_tfms=Resize(224)\n",
        ")\n",
        "\n",
        "dls = xrays.dataloaders(path)\n",
        "dls.train.show_batch(max_n=40, nrows=4)\n",
        "\n",
        "learn = cnn_learner(dls, resnet34, metrics=accuracy)\n",
        "learn.fine_tune(4)"
      ],
      "metadata": {
        "execution": {
          "iopub.status.busy": "2024-07-04T13:33:46.327586Z",
          "iopub.execute_input": "2024-07-04T13:33:46.32852Z",
          "iopub.status.idle": "2024-07-04T13:39:40.683326Z",
          "shell.execute_reply.started": "2024-07-04T13:33:46.328478Z",
          "shell.execute_reply": "2024-07-04T13:39:40.682335Z"
        },
        "trusted": true,
        "id": "rTVAOL7PEyXN"
      },
      "execution_count": null,
      "outputs": []
    },
    {
      "cell_type": "code",
      "source": [
        "interp = ClassificationInterpretation.from_learner(learn)\n",
        "interp.plot_confusion_matrix()"
      ],
      "metadata": {
        "execution": {
          "iopub.status.busy": "2024-07-04T13:41:16.292624Z",
          "iopub.execute_input": "2024-07-04T13:41:16.293024Z",
          "iopub.status.idle": "2024-07-04T13:41:44.074343Z",
          "shell.execute_reply.started": "2024-07-04T13:41:16.292993Z",
          "shell.execute_reply": "2024-07-04T13:41:44.072868Z"
        },
        "trusted": true,
        "id": "_A-SjIShEyXO"
      },
      "execution_count": null,
      "outputs": []
    },
    {
      "cell_type": "code",
      "source": [
        "interp.print_classification_report()"
      ],
      "metadata": {
        "execution": {
          "iopub.status.busy": "2024-07-04T13:43:06.729593Z",
          "iopub.execute_input": "2024-07-04T13:43:06.730676Z",
          "iopub.status.idle": "2024-07-04T13:43:20.913102Z",
          "shell.execute_reply.started": "2024-07-04T13:43:06.730633Z",
          "shell.execute_reply": "2024-07-04T13:43:20.911872Z"
        },
        "trusted": true,
        "id": "XiMPEGguEyXO"
      },
      "execution_count": null,
      "outputs": []
    },
    {
      "cell_type": "code",
      "source": [
        "sample_data = pd.read_csv(\"/kaggle/input/pnevmoniya/sample_solution.csv\")\n",
        "sample_data"
      ],
      "metadata": {
        "execution": {
          "iopub.status.busy": "2024-07-04T13:51:05.251469Z",
          "iopub.execute_input": "2024-07-04T13:51:05.25188Z",
          "iopub.status.idle": "2024-07-04T13:51:05.288377Z",
          "shell.execute_reply.started": "2024-07-04T13:51:05.251846Z",
          "shell.execute_reply": "2024-07-04T13:51:05.287162Z"
        },
        "trusted": true,
        "id": "jn1yD6YWEyXP"
      },
      "execution_count": null,
      "outputs": []
    },
    {
      "cell_type": "code",
      "source": [
        "for i in range(624):\n",
        "    image = PILImage.create(Path(f'../input/pnevmoniya/test/{sample_data.iloc[i,0]}'))\n",
        "    pred, pred_id, prob = learn.predict(image)\n",
        "    sample_data.iloc[i,1] = pred"
      ],
      "metadata": {
        "execution": {
          "iopub.status.busy": "2024-07-04T14:01:39.582234Z",
          "iopub.execute_input": "2024-07-04T14:01:39.582604Z",
          "iopub.status.idle": "2024-07-04T14:02:14.341684Z",
          "shell.execute_reply.started": "2024-07-04T14:01:39.582575Z",
          "shell.execute_reply": "2024-07-04T14:02:14.340754Z"
        },
        "trusted": true,
        "id": "zC4C20kYEyXQ"
      },
      "execution_count": null,
      "outputs": []
    },
    {
      "cell_type": "code",
      "source": [
        "mapping = {'PNEUMONIA':1, 'NORMAL':0}\n",
        "sample_data['labels'] = sample_data['labels'].map(mapping)"
      ],
      "metadata": {
        "execution": {
          "iopub.status.busy": "2024-07-04T14:02:21.295046Z",
          "iopub.execute_input": "2024-07-04T14:02:21.295439Z",
          "iopub.status.idle": "2024-07-04T14:02:21.301771Z",
          "shell.execute_reply.started": "2024-07-04T14:02:21.295409Z",
          "shell.execute_reply": "2024-07-04T14:02:21.300758Z"
        },
        "trusted": true,
        "id": "Q_PbjigYEyXR"
      },
      "execution_count": null,
      "outputs": []
    },
    {
      "cell_type": "code",
      "source": [
        "sample_data.sample(4)"
      ],
      "metadata": {
        "execution": {
          "iopub.status.busy": "2024-07-04T14:02:29.732656Z",
          "iopub.execute_input": "2024-07-04T14:02:29.733504Z",
          "iopub.status.idle": "2024-07-04T14:02:29.746139Z",
          "shell.execute_reply.started": "2024-07-04T14:02:29.733462Z",
          "shell.execute_reply": "2024-07-04T14:02:29.745146Z"
        },
        "trusted": true,
        "id": "pxFeUCQxEyXR"
      },
      "execution_count": null,
      "outputs": []
    },
    {
      "cell_type": "code",
      "source": [
        "sample_data.to_csv('sample_solution.csv', index=False)"
      ],
      "metadata": {
        "execution": {
          "iopub.status.busy": "2024-07-04T14:04:02.88079Z",
          "iopub.execute_input": "2024-07-04T14:04:02.881171Z",
          "iopub.status.idle": "2024-07-04T14:04:02.889275Z",
          "shell.execute_reply.started": "2024-07-04T14:04:02.881141Z",
          "shell.execute_reply": "2024-07-04T14:04:02.888058Z"
        },
        "trusted": true,
        "id": "u5NQKZbUEyXS"
      },
      "execution_count": null,
      "outputs": []
    }
  ]
}
